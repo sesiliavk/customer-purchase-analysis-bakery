{
 "cells": [
  {
   "cell_type": "markdown",
   "id": "77c9dbf7",
   "metadata": {},
   "source": [
    "# i. Introduction\n",
    "\n",
    "=================================================\n",
    "\n",
    "Milestones 1\n",
    "\n",
    "Nama : Sesilia Virdha Kezia \n",
    "\n",
    "Batch : HCK-027\n",
    "\n",
    "Program ini dibuat untuk menganalisis data histori transaksi pelanggan, seperti usia, gender, dan waktu pembelian, untuk menentukan pola perilaku pelanggan yang dapat digunakan dalam merancang strategi promosi yang lebih efektif dan tepat sasaran, dengan tujuan utama meningkatkan penjualan dan efisiensi operasional toko.\n",
    "\n",
    "link tableau : https://public.tableau.com/views/Milestone1_Sesil/Chart?:language=en-US&publish=yes&:sid=&:redirect=auth&:display_count=n&:origin=viz_share_link\n",
    "\n",
    "================================================="
   ]
  },
  {
   "cell_type": "markdown",
   "id": "b53063ca",
   "metadata": {},
   "source": [
    "# ii. Problem Statement and Dataset Description\n",
    "\n",
    "### Latar belakang\n",
    "Perusahaan Cherry on Top merupakan perusahaan bakery yang berupaya meningkatkan penjualan dan efisiensi operasional. Namun ketidakpastian pola waktu pembelian pelanggan menyebabkan ketidakefisienan dalam penjadwalan staf dan pengelolaan bahan baku. Di sisi lain strategi promosi yang ada belum disesuaikan dengan karakteristik perilaku pelanggan.\n",
    "\n",
    "Dengan kondisi ini maka diperlukan analisis terhadap data histori transaksi pelanggan, seperti usia, gender, dan waktu pembelian. analisis ini bertujuan untuk merancang promosi supaya tepat sasaran.\n",
    "\n",
    "### Problem statement\n",
    "Penjualan mengalami penurunan penjualan, strategi promosi yang digunakan belum sepenuhnya disesuaikan dengan karakteristik pelanggan. Minimnya analisis berbasis data membuat promosi yang dilakukan kurang tepat sasaran dan belum mampu meratakan kunjungan pelanggan. Akibatnya peluang untuk meningkatkan pendapatan dan efisiensi operasional belum termanfaatkan secara optimal. Oleh karena itu, diperlukan strategi promosi baru yang lebih terarah dan berbasis data historis transaksi pelanggan, dengan target peningkatan penjualan sebesar 15% dalam waktu 3 bulan.\n",
    "\n",
    "SMART Analysis\n",
    "\n",
    "Specific : Meningkatkan penjualan dengan memaksimalkan strategi promosi yang tepat sasaran\n",
    "\n",
    "Measureable: Meningkatkan penjualan sebanyak 15% dalam 3 bulan\n",
    "\n",
    "Achievable : \n",
    "1. Menganalisis data histori transaksi yang meliputi waktu pembelian, umur, dan gender dari pelanggan\n",
    "2. Mengidentifikasi jam sepi berdasarkan data transaksi lalu merancang ide promo happy hour untuk diuji coba di bulan berikutnya untuk meratakan kunjungan dan mengefesienkan penjadwalan staff sesuai jam sepi atau ramai.\n",
    "3. Menganalisis kelompok pelanggan potensial untuk target promosi selanjutnya\n",
    "\n",
    "Relevant : Meningkatkan efektivitas strategi penjualan melalui analisis data transaksi pelanggan untuk merancang program promosi yang lebih tepat sasaran. Dengan karakteristik pelanggan, manajemen dapat meningkatkan loyalitas, mendorong pertumbuhan pendapatan, dan mengatur jadwal kerja staf secara lebih efisien.\n",
    "\n",
    "Time Bound: Diharapkan goal ini akan dicapai dalam 3 bulan kedepan dengan melakukan evaluasi secara teratur perbulan untuk melihat progres\n",
    "\n",
    "Stakeholders : Sales Marketing, Operasional\n",
    "\n",
    "Metric : Sales growth metrics, Average amount spent per month\n",
    "\n",
    "### Sumber dataset\n",
    "kaggle :  https://www.kaggle.com/datasets/sarthakmangalmurti/bakery-customer-data/data\n",
    "\n",
    "### Penjabaran masalah\n",
    "5W1H\n",
    "1. Pada waktu apa terjadi jumlah transaksi terbanyak dan tersepi?\n",
    "2. Bagaimana perbandingan total pembelian antara gender?\n",
    "3. Metode pembayaran apa yang paling sering digunakan pelanggan?\n",
    "4. Bagaimana tren total penjualan per bulan?\n",
    "5. Bagaimana perbandingan antara member/non-member terhadap total belanja setiap bulannya\n",
    "6. Bagaimana perbandingan range umur terhapat total pembelian?\n",
    "7. Bagaimana rata-rata, median, modus, dan persebaran data usia pelanggan yang sudah menjadi member?\n",
    "8. Apakah ada hubungan antara gender dengan waktu pembelian?\n",
    "\n"
   ]
  },
  {
   "cell_type": "markdown",
   "id": "cb5aa84c",
   "metadata": {},
   "source": [
    "# iii. Data Loading\n"
   ]
  },
  {
   "cell_type": "code",
   "execution_count": 1,
   "id": "479c2e1d",
   "metadata": {},
   "outputs": [],
   "source": [
    "# mengimport package yang diperlukan\n",
    "import pandas as pd\n",
    "import numpy as  np\n",
    "import matplotlib.pyplot as plt\n",
    "from scipy import stats"
   ]
  },
  {
   "cell_type": "code",
   "execution_count": 2,
   "id": "d3fece41",
   "metadata": {},
   "outputs": [
    {
     "data": {
      "text/html": [
       "<div>\n",
       "<style scoped>\n",
       "    .dataframe tbody tr th:only-of-type {\n",
       "        vertical-align: middle;\n",
       "    }\n",
       "\n",
       "    .dataframe tbody tr th {\n",
       "        vertical-align: top;\n",
       "    }\n",
       "\n",
       "    .dataframe thead th {\n",
       "        text-align: right;\n",
       "    }\n",
       "</style>\n",
       "<table border=\"1\" class=\"dataframe\">\n",
       "  <thead>\n",
       "    <tr style=\"text-align: right;\">\n",
       "      <th></th>\n",
       "      <th>Bakery_ID</th>\n",
       "      <th>Customer_ID</th>\n",
       "      <th>Age</th>\n",
       "      <th>Gender</th>\n",
       "      <th>Items_Purchased</th>\n",
       "      <th>Amount_Spent</th>\n",
       "      <th>Purchase_Date</th>\n",
       "      <th>Time_of_Purchase</th>\n",
       "      <th>Loyalty_Member</th>\n",
       "      <th>Payment_Method</th>\n",
       "    </tr>\n",
       "  </thead>\n",
       "  <tbody>\n",
       "    <tr>\n",
       "      <th>0</th>\n",
       "      <td>Bakery_1</td>\n",
       "      <td>1</td>\n",
       "      <td>22</td>\n",
       "      <td>Female</td>\n",
       "      <td>5</td>\n",
       "      <td>48.75</td>\n",
       "      <td>2024-08-02</td>\n",
       "      <td>Afternoon</td>\n",
       "      <td>Yes</td>\n",
       "      <td>Mobile Payment</td>\n",
       "    </tr>\n",
       "    <tr>\n",
       "      <th>1</th>\n",
       "      <td>Bakery_1</td>\n",
       "      <td>2</td>\n",
       "      <td>23</td>\n",
       "      <td>Female</td>\n",
       "      <td>4</td>\n",
       "      <td>39.32</td>\n",
       "      <td>2024-09-15</td>\n",
       "      <td>Morning</td>\n",
       "      <td>No</td>\n",
       "      <td>Mobile Payment</td>\n",
       "    </tr>\n",
       "    <tr>\n",
       "      <th>2</th>\n",
       "      <td>Bakery_1</td>\n",
       "      <td>3</td>\n",
       "      <td>64</td>\n",
       "      <td>Non-binary</td>\n",
       "      <td>16</td>\n",
       "      <td>136.53</td>\n",
       "      <td>2024-08-07</td>\n",
       "      <td>Morning</td>\n",
       "      <td>No</td>\n",
       "      <td>Cash</td>\n",
       "    </tr>\n",
       "    <tr>\n",
       "      <th>3</th>\n",
       "      <td>Bakery_1</td>\n",
       "      <td>4</td>\n",
       "      <td>32</td>\n",
       "      <td>Female</td>\n",
       "      <td>9</td>\n",
       "      <td>68.82</td>\n",
       "      <td>2024-09-18</td>\n",
       "      <td>Morning</td>\n",
       "      <td>Yes</td>\n",
       "      <td>Cash</td>\n",
       "    </tr>\n",
       "    <tr>\n",
       "      <th>4</th>\n",
       "      <td>Bakery_1</td>\n",
       "      <td>5</td>\n",
       "      <td>19</td>\n",
       "      <td>Female</td>\n",
       "      <td>16</td>\n",
       "      <td>95.18</td>\n",
       "      <td>2024-05-05</td>\n",
       "      <td>Evening</td>\n",
       "      <td>No</td>\n",
       "      <td>Cash</td>\n",
       "    </tr>\n",
       "    <tr>\n",
       "      <th>...</th>\n",
       "      <td>...</td>\n",
       "      <td>...</td>\n",
       "      <td>...</td>\n",
       "      <td>...</td>\n",
       "      <td>...</td>\n",
       "      <td>...</td>\n",
       "      <td>...</td>\n",
       "      <td>...</td>\n",
       "      <td>...</td>\n",
       "      <td>...</td>\n",
       "    </tr>\n",
       "    <tr>\n",
       "      <th>495</th>\n",
       "      <td>Bakery_5</td>\n",
       "      <td>96</td>\n",
       "      <td>43</td>\n",
       "      <td>Female</td>\n",
       "      <td>18</td>\n",
       "      <td>159.90</td>\n",
       "      <td>2024-07-04</td>\n",
       "      <td>Evening</td>\n",
       "      <td>Yes</td>\n",
       "      <td>Mobile Payment</td>\n",
       "    </tr>\n",
       "    <tr>\n",
       "      <th>496</th>\n",
       "      <td>Bakery_5</td>\n",
       "      <td>97</td>\n",
       "      <td>46</td>\n",
       "      <td>Female</td>\n",
       "      <td>1</td>\n",
       "      <td>14.10</td>\n",
       "      <td>2024-07-19</td>\n",
       "      <td>Morning</td>\n",
       "      <td>No</td>\n",
       "      <td>Cash</td>\n",
       "    </tr>\n",
       "    <tr>\n",
       "      <th>497</th>\n",
       "      <td>Bakery_5</td>\n",
       "      <td>98</td>\n",
       "      <td>40</td>\n",
       "      <td>Male</td>\n",
       "      <td>14</td>\n",
       "      <td>165.90</td>\n",
       "      <td>2024-08-22</td>\n",
       "      <td>Evening</td>\n",
       "      <td>Yes</td>\n",
       "      <td>Mobile Payment</td>\n",
       "    </tr>\n",
       "    <tr>\n",
       "      <th>498</th>\n",
       "      <td>Bakery_5</td>\n",
       "      <td>99</td>\n",
       "      <td>21</td>\n",
       "      <td>Male</td>\n",
       "      <td>1</td>\n",
       "      <td>12.06</td>\n",
       "      <td>2024-09-25</td>\n",
       "      <td>Morning</td>\n",
       "      <td>No</td>\n",
       "      <td>Card</td>\n",
       "    </tr>\n",
       "    <tr>\n",
       "      <th>499</th>\n",
       "      <td>Bakery_5</td>\n",
       "      <td>100</td>\n",
       "      <td>52</td>\n",
       "      <td>Male</td>\n",
       "      <td>2</td>\n",
       "      <td>33.30</td>\n",
       "      <td>2024-04-26</td>\n",
       "      <td>Evening</td>\n",
       "      <td>No</td>\n",
       "      <td>Cash</td>\n",
       "    </tr>\n",
       "  </tbody>\n",
       "</table>\n",
       "<p>500 rows × 10 columns</p>\n",
       "</div>"
      ],
      "text/plain": [
       "    Bakery_ID  Customer_ID  Age      Gender  Items_Purchased  Amount_Spent  \\\n",
       "0    Bakery_1            1   22      Female                5         48.75   \n",
       "1    Bakery_1            2   23      Female                4         39.32   \n",
       "2    Bakery_1            3   64  Non-binary               16        136.53   \n",
       "3    Bakery_1            4   32      Female                9         68.82   \n",
       "4    Bakery_1            5   19      Female               16         95.18   \n",
       "..        ...          ...  ...         ...              ...           ...   \n",
       "495  Bakery_5           96   43      Female               18        159.90   \n",
       "496  Bakery_5           97   46      Female                1         14.10   \n",
       "497  Bakery_5           98   40        Male               14        165.90   \n",
       "498  Bakery_5           99   21        Male                1         12.06   \n",
       "499  Bakery_5          100   52        Male                2         33.30   \n",
       "\n",
       "    Purchase_Date Time_of_Purchase Loyalty_Member  Payment_Method  \n",
       "0      2024-08-02        Afternoon            Yes  Mobile Payment  \n",
       "1      2024-09-15          Morning             No  Mobile Payment  \n",
       "2      2024-08-07          Morning             No            Cash  \n",
       "3      2024-09-18          Morning            Yes            Cash  \n",
       "4      2024-05-05          Evening             No            Cash  \n",
       "..            ...              ...            ...             ...  \n",
       "495    2024-07-04          Evening            Yes  Mobile Payment  \n",
       "496    2024-07-19          Morning             No            Cash  \n",
       "497    2024-08-22          Evening            Yes  Mobile Payment  \n",
       "498    2024-09-25          Morning             No            Card  \n",
       "499    2024-04-26          Evening             No            Cash  \n",
       "\n",
       "[500 rows x 10 columns]"
      ]
     },
     "execution_count": 2,
     "metadata": {},
     "output_type": "execute_result"
    }
   ],
   "source": [
    "# membaca file csv data kotor \n",
    "df = pd.read_csv('dataset.csv')\n",
    "df"
   ]
  },
  {
   "cell_type": "code",
   "execution_count": 3,
   "id": "a399ec1d",
   "metadata": {},
   "outputs": [
    {
     "name": "stdout",
     "output_type": "stream",
     "text": [
      "<class 'pandas.core.frame.DataFrame'>\n",
      "RangeIndex: 500 entries, 0 to 499\n",
      "Data columns (total 10 columns):\n",
      " #   Column            Non-Null Count  Dtype  \n",
      "---  ------            --------------  -----  \n",
      " 0   Bakery_ID         500 non-null    object \n",
      " 1   Customer_ID       500 non-null    int64  \n",
      " 2   Age               500 non-null    int64  \n",
      " 3   Gender            500 non-null    object \n",
      " 4   Items_Purchased   500 non-null    int64  \n",
      " 5   Amount_Spent      500 non-null    float64\n",
      " 6   Purchase_Date     500 non-null    object \n",
      " 7   Time_of_Purchase  500 non-null    object \n",
      " 8   Loyalty_Member    500 non-null    object \n",
      " 9   Payment_Method    500 non-null    object \n",
      "dtypes: float64(1), int64(3), object(6)\n",
      "memory usage: 39.2+ KB\n"
     ]
    }
   ],
   "source": [
    "# untuk menampilkan summary\n",
    "df.info()"
   ]
  },
  {
   "cell_type": "code",
   "execution_count": 4,
   "id": "42360be9",
   "metadata": {},
   "outputs": [
    {
     "data": {
      "text/plain": [
       "Index(['Bakery_ID', 'Customer_ID', 'Age', 'Gender', 'Items_Purchased',\n",
       "       'Amount_Spent', 'Purchase_Date', 'Time_of_Purchase', 'Loyalty_Member',\n",
       "       'Payment_Method'],\n",
       "      dtype='object')"
      ]
     },
     "execution_count": 4,
     "metadata": {},
     "output_type": "execute_result"
    }
   ],
   "source": [
    "# melihat kolom apa saja yg terdapat di dataframe\n",
    "df.columns"
   ]
  },
  {
   "cell_type": "markdown",
   "id": "f6a7bfb9",
   "metadata": {},
   "source": [
    "#### Penjelasan kolom\n",
    "\n",
    "1. Bakery_ID : Sebagai identitas unik tiap toko roti\n",
    "2. Customer_ID : Kode unik tiap pelanggan\n",
    "3. Items_Purchased : Menunjukkan jumlah barang yang dibeli dalam satu transaksi\n",
    "4. Amount_Spent : Total pengeluaran pelanggan per kunjungan\n",
    "5. Payment_Method : Jenis pembayaran yang digunakan (card, cash, mobile)\n",
    "6. Loyalty Member : Menunjukkan apakah pelanggan tergabung dalam program loyalitas\n",
    "7. Age : Usia pelanggan saat transaksi\n",
    "8. Gender : Jenis kelamin pelanggan\n",
    "9. Purchase_Date : Tanggal transaksi dilakukan; digunakan untuk mengidentifikasi tren musiman dan waktu ramai belanja.\n",
    "10. Time_of_Purchase : Waktu pembelian (misalnya pagi, siang, sore)"
   ]
  },
  {
   "cell_type": "markdown",
   "id": "df81d87b",
   "metadata": {},
   "source": [
    "Pada proses data load kita akan mengimport dataset yang sudah dimiliki ke dalam dataframe. Melihat summary dari datafame dengan method info() dan melihat nama kolom dalam dataframe"
   ]
  },
  {
   "cell_type": "markdown",
   "id": "6ed3481a",
   "metadata": {},
   "source": [
    "# iv. Data Cleaning"
   ]
  },
  {
   "cell_type": "markdown",
   "id": "24b93509",
   "metadata": {},
   "source": [
    "Disini saya membuat dataframe baru main dengan menghapus kolom bakery_id karena ingin fokus analisis untuk keseluruhan bukan membandingkan performa antar cabang. kolom customer id karena berhubungan dengan bakery jika tidak dihapus maka akan menjadi ambigu karena id customer 1 di bakery_1 dan bakery_2 kemungkinan tidak sama."
   ]
  },
  {
   "cell_type": "code",
   "execution_count": 5,
   "id": "d60e6b92",
   "metadata": {},
   "outputs": [
    {
     "data": {
      "text/html": [
       "<div>\n",
       "<style scoped>\n",
       "    .dataframe tbody tr th:only-of-type {\n",
       "        vertical-align: middle;\n",
       "    }\n",
       "\n",
       "    .dataframe tbody tr th {\n",
       "        vertical-align: top;\n",
       "    }\n",
       "\n",
       "    .dataframe thead th {\n",
       "        text-align: right;\n",
       "    }\n",
       "</style>\n",
       "<table border=\"1\" class=\"dataframe\">\n",
       "  <thead>\n",
       "    <tr style=\"text-align: right;\">\n",
       "      <th></th>\n",
       "      <th>Age</th>\n",
       "      <th>Gender</th>\n",
       "      <th>Items_Purchased</th>\n",
       "      <th>Amount_Spent</th>\n",
       "      <th>Purchase_Date</th>\n",
       "      <th>Time_of_Purchase</th>\n",
       "      <th>Loyalty_Member</th>\n",
       "      <th>Payment_Method</th>\n",
       "    </tr>\n",
       "  </thead>\n",
       "  <tbody>\n",
       "    <tr>\n",
       "      <th>0</th>\n",
       "      <td>22</td>\n",
       "      <td>Female</td>\n",
       "      <td>5</td>\n",
       "      <td>48.75</td>\n",
       "      <td>2024-08-02</td>\n",
       "      <td>Afternoon</td>\n",
       "      <td>Yes</td>\n",
       "      <td>Mobile Payment</td>\n",
       "    </tr>\n",
       "    <tr>\n",
       "      <th>1</th>\n",
       "      <td>23</td>\n",
       "      <td>Female</td>\n",
       "      <td>4</td>\n",
       "      <td>39.32</td>\n",
       "      <td>2024-09-15</td>\n",
       "      <td>Morning</td>\n",
       "      <td>No</td>\n",
       "      <td>Mobile Payment</td>\n",
       "    </tr>\n",
       "    <tr>\n",
       "      <th>2</th>\n",
       "      <td>64</td>\n",
       "      <td>Non-binary</td>\n",
       "      <td>16</td>\n",
       "      <td>136.53</td>\n",
       "      <td>2024-08-07</td>\n",
       "      <td>Morning</td>\n",
       "      <td>No</td>\n",
       "      <td>Cash</td>\n",
       "    </tr>\n",
       "    <tr>\n",
       "      <th>3</th>\n",
       "      <td>32</td>\n",
       "      <td>Female</td>\n",
       "      <td>9</td>\n",
       "      <td>68.82</td>\n",
       "      <td>2024-09-18</td>\n",
       "      <td>Morning</td>\n",
       "      <td>Yes</td>\n",
       "      <td>Cash</td>\n",
       "    </tr>\n",
       "    <tr>\n",
       "      <th>4</th>\n",
       "      <td>19</td>\n",
       "      <td>Female</td>\n",
       "      <td>16</td>\n",
       "      <td>95.18</td>\n",
       "      <td>2024-05-05</td>\n",
       "      <td>Evening</td>\n",
       "      <td>No</td>\n",
       "      <td>Cash</td>\n",
       "    </tr>\n",
       "    <tr>\n",
       "      <th>...</th>\n",
       "      <td>...</td>\n",
       "      <td>...</td>\n",
       "      <td>...</td>\n",
       "      <td>...</td>\n",
       "      <td>...</td>\n",
       "      <td>...</td>\n",
       "      <td>...</td>\n",
       "      <td>...</td>\n",
       "    </tr>\n",
       "    <tr>\n",
       "      <th>495</th>\n",
       "      <td>43</td>\n",
       "      <td>Female</td>\n",
       "      <td>18</td>\n",
       "      <td>159.90</td>\n",
       "      <td>2024-07-04</td>\n",
       "      <td>Evening</td>\n",
       "      <td>Yes</td>\n",
       "      <td>Mobile Payment</td>\n",
       "    </tr>\n",
       "    <tr>\n",
       "      <th>496</th>\n",
       "      <td>46</td>\n",
       "      <td>Female</td>\n",
       "      <td>1</td>\n",
       "      <td>14.10</td>\n",
       "      <td>2024-07-19</td>\n",
       "      <td>Morning</td>\n",
       "      <td>No</td>\n",
       "      <td>Cash</td>\n",
       "    </tr>\n",
       "    <tr>\n",
       "      <th>497</th>\n",
       "      <td>40</td>\n",
       "      <td>Male</td>\n",
       "      <td>14</td>\n",
       "      <td>165.90</td>\n",
       "      <td>2024-08-22</td>\n",
       "      <td>Evening</td>\n",
       "      <td>Yes</td>\n",
       "      <td>Mobile Payment</td>\n",
       "    </tr>\n",
       "    <tr>\n",
       "      <th>498</th>\n",
       "      <td>21</td>\n",
       "      <td>Male</td>\n",
       "      <td>1</td>\n",
       "      <td>12.06</td>\n",
       "      <td>2024-09-25</td>\n",
       "      <td>Morning</td>\n",
       "      <td>No</td>\n",
       "      <td>Card</td>\n",
       "    </tr>\n",
       "    <tr>\n",
       "      <th>499</th>\n",
       "      <td>52</td>\n",
       "      <td>Male</td>\n",
       "      <td>2</td>\n",
       "      <td>33.30</td>\n",
       "      <td>2024-04-26</td>\n",
       "      <td>Evening</td>\n",
       "      <td>No</td>\n",
       "      <td>Cash</td>\n",
       "    </tr>\n",
       "  </tbody>\n",
       "</table>\n",
       "<p>500 rows × 8 columns</p>\n",
       "</div>"
      ],
      "text/plain": [
       "     Age      Gender  Items_Purchased  Amount_Spent Purchase_Date  \\\n",
       "0     22      Female                5         48.75    2024-08-02   \n",
       "1     23      Female                4         39.32    2024-09-15   \n",
       "2     64  Non-binary               16        136.53    2024-08-07   \n",
       "3     32      Female                9         68.82    2024-09-18   \n",
       "4     19      Female               16         95.18    2024-05-05   \n",
       "..   ...         ...              ...           ...           ...   \n",
       "495   43      Female               18        159.90    2024-07-04   \n",
       "496   46      Female                1         14.10    2024-07-19   \n",
       "497   40        Male               14        165.90    2024-08-22   \n",
       "498   21        Male                1         12.06    2024-09-25   \n",
       "499   52        Male                2         33.30    2024-04-26   \n",
       "\n",
       "    Time_of_Purchase Loyalty_Member  Payment_Method  \n",
       "0          Afternoon            Yes  Mobile Payment  \n",
       "1            Morning             No  Mobile Payment  \n",
       "2            Morning             No            Cash  \n",
       "3            Morning            Yes            Cash  \n",
       "4            Evening             No            Cash  \n",
       "..               ...            ...             ...  \n",
       "495          Evening            Yes  Mobile Payment  \n",
       "496          Morning             No            Cash  \n",
       "497          Evening            Yes  Mobile Payment  \n",
       "498          Morning             No            Card  \n",
       "499          Evening             No            Cash  \n",
       "\n",
       "[500 rows x 8 columns]"
      ]
     },
     "execution_count": 5,
     "metadata": {},
     "output_type": "execute_result"
    }
   ],
   "source": [
    "main = df[['Age', 'Gender', 'Items_Purchased', 'Amount_Spent', 'Purchase_Date', 'Time_of_Purchase', 'Loyalty_Member', 'Payment_Method']]\n",
    "main"
   ]
  },
  {
   "cell_type": "code",
   "execution_count": 6,
   "id": "e97bc2dd",
   "metadata": {},
   "outputs": [
    {
     "name": "stdout",
     "output_type": "stream",
     "text": [
      "<class 'pandas.core.frame.DataFrame'>\n",
      "RangeIndex: 500 entries, 0 to 499\n",
      "Data columns (total 8 columns):\n",
      " #   Column            Non-Null Count  Dtype  \n",
      "---  ------            --------------  -----  \n",
      " 0   Age               500 non-null    int64  \n",
      " 1   Gender            500 non-null    object \n",
      " 2   Items_Purchased   500 non-null    int64  \n",
      " 3   Amount_Spent      500 non-null    float64\n",
      " 4   Purchase_Date     500 non-null    object \n",
      " 5   Time_of_Purchase  500 non-null    object \n",
      " 6   Loyalty_Member    500 non-null    object \n",
      " 7   Payment_Method    500 non-null    object \n",
      "dtypes: float64(1), int64(2), object(5)\n",
      "memory usage: 31.4+ KB\n"
     ]
    }
   ],
   "source": [
    "main.info()"
   ]
  },
  {
   "cell_type": "code",
   "execution_count": 7,
   "id": "296e09d0",
   "metadata": {},
   "outputs": [
    {
     "name": "stderr",
     "output_type": "stream",
     "text": [
      "C:\\Users\\Acer\\AppData\\Local\\Temp\\ipykernel_11340\\981468298.py:2: SettingWithCopyWarning: \n",
      "A value is trying to be set on a copy of a slice from a DataFrame.\n",
      "Try using .loc[row_indexer,col_indexer] = value instead\n",
      "\n",
      "See the caveats in the documentation: https://pandas.pydata.org/pandas-docs/stable/user_guide/indexing.html#returning-a-view-versus-a-copy\n",
      "  main['Purchase_Date'] = pd.to_datetime(main['Purchase_Date'])\n"
     ]
    }
   ],
   "source": [
    "# megganti tipe data kolom purchase amount menjadi datetime\n",
    "main['Purchase_Date'] = pd.to_datetime(main['Purchase_Date'])"
   ]
  },
  {
   "cell_type": "code",
   "execution_count": 8,
   "id": "4b5bfc98",
   "metadata": {},
   "outputs": [
    {
     "data": {
      "text/plain": [
       "Age                 0\n",
       "Gender              0\n",
       "Items_Purchased     0\n",
       "Amount_Spent        0\n",
       "Purchase_Date       0\n",
       "Time_of_Purchase    0\n",
       "Loyalty_Member      0\n",
       "Payment_Method      0\n",
       "dtype: int64"
      ]
     },
     "execution_count": 8,
     "metadata": {},
     "output_type": "execute_result"
    }
   ],
   "source": [
    "# melihat missing values dapat dilihat bahwa didalam dataframe main tidak ada missing values, maka tidak diperlukan dropna\n",
    "main.isnull().sum()"
   ]
  },
  {
   "cell_type": "markdown",
   "id": "a0d3326c",
   "metadata": {},
   "source": [
    "Proses data cleaning dilakukan untuk membersihkan atau menyiapkan data supaya lebih akurat. sehingga disini saya tidak menggunakan kolom bakery_id dan customer_id, mengganti tipe data terhadap kolom Time_of_Purchase menjadi datetime, dan mengecek ada atau tidaknya missing value."
   ]
  },
  {
   "cell_type": "code",
   "execution_count": 9,
   "id": "4afa41f0",
   "metadata": {},
   "outputs": [],
   "source": [
    "# menyimpan dataset yang bersih   \n",
    "main.to_csv('cleaned_dataset.csv', index=False)"
   ]
  },
  {
   "cell_type": "markdown",
   "id": "63a23fe3",
   "metadata": {},
   "source": [
    "# v. Exploration and Analysis\n"
   ]
  },
  {
   "cell_type": "markdown",
   "id": "d33b0985",
   "metadata": {},
   "source": [
    "### 1. Jumlah transaksi sesuai waktu pembelian\n"
   ]
  },
  {
   "cell_type": "code",
   "execution_count": 10,
   "id": "19c84946",
   "metadata": {},
   "outputs": [
    {
     "data": {
      "image/png": "[encoded data removed]",
      "text/plain": [
       "<Figure size 600x300 with 1 Axes>"
      ]
     },
     "metadata": {},
     "output_type": "display_data"
    }
   ],
   "source": [
    "# Group by kolom Time_of_Purchase dan jumlahkan Amount_Spent\n",
    "df_time = main.groupby('Time_of_Purchase')['Amount_Spent'].sum().reset_index()\n",
    "\n",
    "# Urutkan berdasarkan jumlah Amount_Spent agar ascending\n",
    "df_time = df_time.sort_values('Amount_Spent', ascending=True)\n",
    "\n",
    "# Buat bar chart horizontal\n",
    "plt.figure(figsize=(6, 3))\n",
    "plt.barh(df_time['Time_of_Purchase'], df_time['Amount_Spent'], color='skyblue')\n",
    "plt.xlabel('Amount Spent')\n",
    "plt.ylabel('Time of Purchase')\n",
    "plt.title('Total Amount Spent by Time of Purchase')\n",
    "\n",
    "plt.tight_layout()\n",
    "plt.show()"
   ]
  },
  {
   "cell_type": "markdown",
   "id": "3f67c161",
   "metadata": {},
   "source": [
    "Insight: Jumlah transaksi terbanyak terjadi pada sore dan paling sedikit pada siang hari"
   ]
  },
  {
   "cell_type": "markdown",
   "id": "24dbd798",
   "metadata": {},
   "source": [
    "### 2. Perbandingan jumlah belanja berdasarkan gender"
   ]
  },
  {
   "cell_type": "code",
   "execution_count": 11,
   "id": "071d51ef",
   "metadata": {},
   "outputs": [
    {
     "data": {
      "image/png": "[encoded data removed]",
      "text/plain": [
       "<Figure size 600x300 with 1 Axes>"
      ]
     },
     "metadata": {},
     "output_type": "display_data"
    }
   ],
   "source": [
    "# Group by kolom Gender dan jumlahkan Amount_Spent\n",
    "df_gender = main.groupby('Gender')['Amount_Spent'].sum().reset_index()\n",
    "\n",
    "# Urutkan berdasarkan Amount_Spent agar tampil ascending\n",
    "df_gender = df_gender.sort_values('Amount_Spent', ascending=True)\n",
    "\n",
    "# Buat bar chart horizontal\n",
    "plt.figure(figsize=(6, 3))  # ukuran dalam inch (width=6, height=3)\n",
    "plt.barh(df_gender['Gender'], df_gender['Amount_Spent'], color='lightcoral')\n",
    "plt.xlabel('Amount Spent')\n",
    "plt.ylabel('Gender')\n",
    "plt.title('Total Amount Spent by Gender')\n",
    "\n",
    "plt.tight_layout()\n",
    "plt.show()"
   ]
  },
  {
   "cell_type": "markdown",
   "id": "3ba5d5ac",
   "metadata": {},
   "source": [
    "insight : Gender yang paling besar pengeluaran untuk membeli adalah wanita dan yang terkecil adalah pria"
   ]
  },
  {
   "cell_type": "markdown",
   "id": "cda1d10c",
   "metadata": {},
   "source": [
    "### 3. Persentase metode pembayaran terpopuler"
   ]
  },
  {
   "cell_type": "code",
   "execution_count": 12,
   "id": "843bc93d",
   "metadata": {},
   "outputs": [
    {
     "data": {
      "image/png": "[encoded data removed]",
      "text/plain": [
       "<Figure size 500x500 with 1 Axes>"
      ]
     },
     "metadata": {},
     "output_type": "display_data"
    }
   ],
   "source": [
    "# Hitung jumlah tiap kategori Payment_Method\n",
    "payment_counts = main['Payment_Method'].value_counts()\n",
    "\n",
    "# Buat pie chart\n",
    "plt.figure(figsize=(5, 5)) \n",
    "plt.pie(payment_counts, labels=payment_counts.index, autopct='%1.1f%%', startangle=90,\n",
    "        colors=['#D1C4E9', '#BBDEFB', \"#F4B8BE\"])\n",
    "plt.title('Persentase Metode Pembayaran')\n",
    "plt.axis('equal')\n",
    "plt.show()"
   ]
  },
  {
   "cell_type": "markdown",
   "id": "295a99e7",
   "metadata": {},
   "source": [
    "Insight: Metode pembayaran paling banyak digunakan adalah cash dengan 38.4% dan paling jarang adalah card 29%"
   ]
  },
  {
   "cell_type": "markdown",
   "id": "51c79326",
   "metadata": {},
   "source": [
    "### 4. Total Penjualan Per Bulan"
   ]
  },
  {
   "cell_type": "code",
   "execution_count": 13,
   "id": "5794ab40",
   "metadata": {},
   "outputs": [
    {
     "data": {
      "text/html": [
       "<div>\n",
       "<style scoped>\n",
       "    .dataframe tbody tr th:only-of-type {\n",
       "        vertical-align: middle;\n",
       "    }\n",
       "\n",
       "    .dataframe tbody tr th {\n",
       "        vertical-align: top;\n",
       "    }\n",
       "\n",
       "    .dataframe thead th {\n",
       "        text-align: right;\n",
       "    }\n",
       "</style>\n",
       "<table border=\"1\" class=\"dataframe\">\n",
       "  <thead>\n",
       "    <tr style=\"text-align: right;\">\n",
       "      <th></th>\n",
       "      <th>Purchase_Date</th>\n",
       "      <th>Amount_Spent</th>\n",
       "    </tr>\n",
       "  </thead>\n",
       "  <tbody>\n",
       "    <tr>\n",
       "      <th>0</th>\n",
       "      <td>2024/04</td>\n",
       "      <td>7768.66</td>\n",
       "    </tr>\n",
       "    <tr>\n",
       "      <th>1</th>\n",
       "      <td>2024/05</td>\n",
       "      <td>10207.00</td>\n",
       "    </tr>\n",
       "    <tr>\n",
       "      <th>2</th>\n",
       "      <td>2024/06</td>\n",
       "      <td>12527.58</td>\n",
       "    </tr>\n",
       "    <tr>\n",
       "      <th>3</th>\n",
       "      <td>2024/07</td>\n",
       "      <td>10738.75</td>\n",
       "    </tr>\n",
       "    <tr>\n",
       "      <th>4</th>\n",
       "      <td>2024/08</td>\n",
       "      <td>12114.26</td>\n",
       "    </tr>\n",
       "    <tr>\n",
       "      <th>5</th>\n",
       "      <td>2024/09</td>\n",
       "      <td>9517.30</td>\n",
       "    </tr>\n",
       "    <tr>\n",
       "      <th>6</th>\n",
       "      <td>2024/10</td>\n",
       "      <td>2498.48</td>\n",
       "    </tr>\n",
       "  </tbody>\n",
       "</table>\n",
       "</div>"
      ],
      "text/plain": [
       "  Purchase_Date  Amount_Spent\n",
       "0       2024/04       7768.66\n",
       "1       2024/05      10207.00\n",
       "2       2024/06      12527.58\n",
       "3       2024/07      10738.75\n",
       "4       2024/08      12114.26\n",
       "5       2024/09       9517.30\n",
       "6       2024/10       2498.48"
      ]
     },
     "execution_count": 13,
     "metadata": {},
     "output_type": "execute_result"
    }
   ],
   "source": [
    "# membuat dataframe baru dengan nama df_monthy\n",
    "df_monthly = main.groupby(main['Purchase_Date'].dt.strftime(\"%Y/%m\"))['Amount_Spent'].sum().reset_index()\n",
    "df_monthly = df_monthly.sort_values('Purchase_Date')\n",
    "df_monthly\n"
   ]
  },
  {
   "cell_type": "code",
   "execution_count": 14,
   "id": "5e8acde5",
   "metadata": {},
   "outputs": [
    {
     "data": {
      "image/png": "[encoded data removed]",
      "text/plain": [
       "<Figure size 1000x500 with 1 Axes>"
      ]
     },
     "metadata": {},
     "output_type": "display_data"
    }
   ],
   "source": [
    "# Buat line chart\n",
    "plt.figure(figsize=(10, 5))\n",
    "plt.plot(df_monthly['Purchase_Date'], df_monthly['Amount_Spent'], marker='o', color='red')\n",
    "\n",
    "# Format axis\n",
    "plt.xticks(rotation=90)\n",
    "plt.xlabel('Purchase Date')\n",
    "plt.ylabel('Amount Spent')\n",
    "plt.title('Total Penjualan Per Bulan')\n",
    "\n",
    "plt.tight_layout()\n",
    "plt.show()"
   ]
  },
  {
   "cell_type": "markdown",
   "id": "c5c98632",
   "metadata": {},
   "source": [
    "Insight : \n",
    "1. Total penjual tertinggi terdapat di bulan juni 2024 dan terendah di bulan oktober 2024\n",
    "2. Total pembelian terus meningkat mulai bulan april sampai juni dan terus menurun mulai bulan agustus sampai oktober"
   ]
  },
  {
   "cell_type": "markdown",
   "id": "431c3b1f",
   "metadata": {},
   "source": [
    "### 5. Perbandingan antara member/non-member terhadap total belanja setiap bulannya"
   ]
  },
  {
   "cell_type": "code",
   "execution_count": 15,
   "id": "82fb5492",
   "metadata": {},
   "outputs": [
    {
     "name": "stderr",
     "output_type": "stream",
     "text": [
      "C:\\Users\\Acer\\AppData\\Local\\Temp\\ipykernel_11340\\2881829238.py:5: SettingWithCopyWarning: \n",
      "A value is trying to be set on a copy of a slice from a DataFrame.\n",
      "Try using .loc[row_indexer,col_indexer] = value instead\n",
      "\n",
      "See the caveats in the documentation: https://pandas.pydata.org/pandas-docs/stable/user_guide/indexing.html#returning-a-view-versus-a-copy\n",
      "  main_sorted['Month'] = main['Purchase_Date'].dt.strftime(\"%Y/%m\")\n"
     ]
    },
    {
     "data": {
      "text/html": [
       "<div>\n",
       "<style scoped>\n",
       "    .dataframe tbody tr th:only-of-type {\n",
       "        vertical-align: middle;\n",
       "    }\n",
       "\n",
       "    .dataframe tbody tr th {\n",
       "        vertical-align: top;\n",
       "    }\n",
       "\n",
       "    .dataframe thead th {\n",
       "        text-align: right;\n",
       "    }\n",
       "</style>\n",
       "<table border=\"1\" class=\"dataframe\">\n",
       "  <thead>\n",
       "    <tr style=\"text-align: right;\">\n",
       "      <th></th>\n",
       "      <th>Month</th>\n",
       "      <th>Loyalty_Member</th>\n",
       "      <th>Amount_Spent</th>\n",
       "    </tr>\n",
       "  </thead>\n",
       "  <tbody>\n",
       "    <tr>\n",
       "      <th>0</th>\n",
       "      <td>2024/04</td>\n",
       "      <td>No</td>\n",
       "      <td>5084.76</td>\n",
       "    </tr>\n",
       "    <tr>\n",
       "      <th>1</th>\n",
       "      <td>2024/04</td>\n",
       "      <td>Yes</td>\n",
       "      <td>2683.90</td>\n",
       "    </tr>\n",
       "    <tr>\n",
       "      <th>2</th>\n",
       "      <td>2024/05</td>\n",
       "      <td>No</td>\n",
       "      <td>4963.04</td>\n",
       "    </tr>\n",
       "    <tr>\n",
       "      <th>3</th>\n",
       "      <td>2024/05</td>\n",
       "      <td>Yes</td>\n",
       "      <td>5243.96</td>\n",
       "    </tr>\n",
       "    <tr>\n",
       "      <th>4</th>\n",
       "      <td>2024/06</td>\n",
       "      <td>No</td>\n",
       "      <td>6324.22</td>\n",
       "    </tr>\n",
       "    <tr>\n",
       "      <th>5</th>\n",
       "      <td>2024/06</td>\n",
       "      <td>Yes</td>\n",
       "      <td>6203.36</td>\n",
       "    </tr>\n",
       "    <tr>\n",
       "      <th>6</th>\n",
       "      <td>2024/07</td>\n",
       "      <td>No</td>\n",
       "      <td>4088.76</td>\n",
       "    </tr>\n",
       "    <tr>\n",
       "      <th>7</th>\n",
       "      <td>2024/07</td>\n",
       "      <td>Yes</td>\n",
       "      <td>6649.99</td>\n",
       "    </tr>\n",
       "    <tr>\n",
       "      <th>8</th>\n",
       "      <td>2024/08</td>\n",
       "      <td>No</td>\n",
       "      <td>6574.51</td>\n",
       "    </tr>\n",
       "    <tr>\n",
       "      <th>9</th>\n",
       "      <td>2024/08</td>\n",
       "      <td>Yes</td>\n",
       "      <td>5539.75</td>\n",
       "    </tr>\n",
       "    <tr>\n",
       "      <th>10</th>\n",
       "      <td>2024/09</td>\n",
       "      <td>No</td>\n",
       "      <td>6063.15</td>\n",
       "    </tr>\n",
       "    <tr>\n",
       "      <th>11</th>\n",
       "      <td>2024/09</td>\n",
       "      <td>Yes</td>\n",
       "      <td>3454.15</td>\n",
       "    </tr>\n",
       "    <tr>\n",
       "      <th>12</th>\n",
       "      <td>2024/10</td>\n",
       "      <td>No</td>\n",
       "      <td>746.04</td>\n",
       "    </tr>\n",
       "    <tr>\n",
       "      <th>13</th>\n",
       "      <td>2024/10</td>\n",
       "      <td>Yes</td>\n",
       "      <td>1752.44</td>\n",
       "    </tr>\n",
       "  </tbody>\n",
       "</table>\n",
       "</div>"
      ],
      "text/plain": [
       "      Month Loyalty_Member  Amount_Spent\n",
       "0   2024/04             No       5084.76\n",
       "1   2024/04            Yes       2683.90\n",
       "2   2024/05             No       4963.04\n",
       "3   2024/05            Yes       5243.96\n",
       "4   2024/06             No       6324.22\n",
       "5   2024/06            Yes       6203.36\n",
       "6   2024/07             No       4088.76\n",
       "7   2024/07            Yes       6649.99\n",
       "8   2024/08             No       6574.51\n",
       "9   2024/08            Yes       5539.75\n",
       "10  2024/09             No       6063.15\n",
       "11  2024/09            Yes       3454.15\n",
       "12  2024/10             No        746.04\n",
       "13  2024/10            Yes       1752.44"
      ]
     },
     "execution_count": 15,
     "metadata": {},
     "output_type": "execute_result"
    }
   ],
   "source": [
    "''' Membuat dataframe baru main_sorted yang terdapat kolom amount spent, loyalty member dan month yang didapat dari kolom purchase date berupa \n",
    "tahun dan bulan.  lalu groupby sesuai dengan loyalty  member dan amount spent\n",
    "'''\n",
    "main_sorted = main[['Amount_Spent','Loyalty_Member']]\n",
    "main_sorted['Month'] = main['Purchase_Date'].dt.strftime(\"%Y/%m\")\n",
    "main_sorted = main_sorted.groupby(['Month', 'Loyalty_Member'])['Amount_Spent'].sum().reset_index()\n",
    "main_sorted"
   ]
  },
  {
   "cell_type": "code",
   "execution_count": 16,
   "id": "9d0304c0",
   "metadata": {},
   "outputs": [
    {
     "data": {
      "image/png": "[encoded data removed]",
      "text/plain": [
       "<Figure size 1000x500 with 1 Axes>"
      ]
     },
     "metadata": {},
     "output_type": "display_data"
    }
   ],
   "source": [
    "# Pivot agar mudah membuat grouped bar chart\n",
    "pivot_df = main_sorted.pivot(index='Month', columns='Loyalty_Member', values='Amount_Spent').fillna(0)\n",
    "\n",
    "# Plot\n",
    "months = pivot_df.index\n",
    "x = np.arange(len(months))  # posisi X untuk setiap bulan\n",
    "width = 0.35  # lebar bar\n",
    "\n",
    "# Ambil nama-nama kategori Loyalty_Member\n",
    "categories = pivot_df.columns\n",
    "\n",
    "plt.figure(figsize=(10, 5))\n",
    "\n",
    "# Loop untuk setiap kategori Loyalty_Member\n",
    "for i, category in enumerate(categories):\n",
    "    plt.bar(x + i * width, pivot_df[category], width, label=str(category))\n",
    "\n",
    "# Format axis\n",
    "plt.xticks(x + width / 2, months, rotation=90)\n",
    "plt.xlabel('Month')\n",
    "plt.ylabel('Amount Spent')\n",
    "plt.title('Amount Spent per Month by Loyalty Member Status')\n",
    "plt.legend(title='Loyalty Member')\n",
    "\n",
    "plt.tight_layout()\n",
    "plt.show()"
   ]
  },
  {
   "cell_type": "markdown",
   "id": "f6b1022a",
   "metadata": {},
   "source": [
    "Insight : \n",
    "1. Pelanggan member total pembelian paling tinggi terdapat di bulan Juli 2024 dan terendah di oktober 2024\n",
    "2. Pelanggan non member total pembelian paling tinggi terdapat di bulan Agustus 2024 dan terendah di Oktober 2024\n",
    "3. Penurunan yang signifikan di bulan Oktober baik pelanggan member maupun non member\n",
    "4. Pelanggan non member cenderung lebih banyak melakukan pembelian dibandingan pelanggan member dapat dilihat pada bulan april, juni, agustus, dan september."
   ]
  },
  {
   "cell_type": "markdown",
   "id": "c35bb03b",
   "metadata": {},
   "source": [
    "### 6. Perbandingan range umur terhapat total pembelian"
   ]
  },
  {
   "cell_type": "code",
   "execution_count": 17,
   "id": "5bf083be",
   "metadata": {},
   "outputs": [],
   "source": [
    "# Membuat bins untuk membuat rentang terhadap usia\n",
    "bins = [17, 25, 35, 45, 55, 65, 100]\n",
    "labels = ['18-25', '26-35', '36-45', '46-55', '56-65', '66+']\n",
    "\n",
    "# Kelompokkan berdasarkan rentang usia dan jumlahkan Amount_Spent\n",
    "df_age = main.groupby(pd.cut(main['Age'], bins=bins, labels=labels))['Amount_Spent'].sum().reset_index()\n",
    "\n",
    "# Urutkan berdasarkan Amount_Spent descending (sesuai categoryorder='total descending')\n",
    "df_age = df_age.sort_values('Amount_Spent', ascending=False)\n"
   ]
  },
  {
   "cell_type": "code",
   "execution_count": 18,
   "id": "0c6021e0",
   "metadata": {},
   "outputs": [
    {
     "data": {
      "image/png": "[encoded data removed]",
      "text/plain": [
       "<Figure size 600x300 with 1 Axes>"
      ]
     },
     "metadata": {},
     "output_type": "display_data"
    }
   ],
   "source": [
    "# Buat bar chart\n",
    "plt.figure(figsize=(6, 3))\n",
    "plt.bar(df_age['Age'], df_age['Amount_Spent'], color=\"#D940EA\")\n",
    "\n",
    "# Tambahkan label dan judul\n",
    "plt.xlabel('Age Group')\n",
    "plt.ylabel('Amount Spent')\n",
    "plt.title('Amount Spent by Age Group')\n",
    "\n",
    "plt.tight_layout()\n",
    "plt.show()"
   ]
  },
  {
   "cell_type": "markdown",
   "id": "a218251a",
   "metadata": {},
   "source": [
    "Insight : total belanja pada rentang umur 36 sampai 45 paling tinggi dan paling rendah terdapat di rentang umur 66 tahun ke atas"
   ]
  },
  {
   "cell_type": "markdown",
   "id": "ad5b02c1",
   "metadata": {},
   "source": [
    "### 7. Rata-rata, Median, Mean, dan penyebaran umur yang merupakan member"
   ]
  },
  {
   "cell_type": "code",
   "execution_count": 19,
   "id": "c6cd78d2",
   "metadata": {},
   "outputs": [
    {
     "name": "stdout",
     "output_type": "stream",
     "text": [
      "Rata-rata usia member: 43.33 tahun\n",
      "Median usia member: 43.00 tahun\n",
      "Modus usia member: 54.00 tahun\n",
      "Standar Deviasi: 14.69\n"
     ]
    }
   ],
   "source": [
    "# menghitung rata-rata dengan mean(), median dengan median(), modus dengan mode(), dan standar deviasi denga std()\n",
    "average_age_member = main[main['Loyalty_Member'] == 'Yes']['Age'].mean()\n",
    "print(f\"Rata-rata usia member: {average_age_member:.2f} tahun\")\n",
    "median_age_member = main[main['Loyalty_Member'] == 'Yes']['Age'].median()\n",
    "print(f\"Median usia member: {median_age_member:.2f} tahun\")\n",
    "modus_age_member = main[main['Loyalty_Member'] == 'Yes']['Age'].mode().values[0]\n",
    "print(f\"Modus usia member: {modus_age_member:.2f} tahun\")\n",
    "deviasi_age_member = main[main['Loyalty_Member'] == 'Yes']['Age'].std()\n",
    "print(f'Standar Deviasi: {deviasi_age_member:.2f}')"
   ]
  },
  {
   "cell_type": "markdown",
   "id": "11cd25cf",
   "metadata": {},
   "source": [
    "Nilai rata-rata dan median yang berdekatan menunjukkan bahwa distribusi usia relatif simetris di sekitar usia 43 tahun Tetapi modus yang berada di 54 tahun menandakan bahwa usia 54 merupakan usia yang paling sering muncul.\n",
    "Nilai standar deviasi sebesar 14.69 tahun menunjukkan bahwa ada penyebaran usia yang cukup lebar di antara para member. Artinya terdapat variasi yang cukup signifikan baik dari usia yang lebih muda maupun lebih tua."
   ]
  },
  {
   "cell_type": "markdown",
   "id": "736fb5f1",
   "metadata": {},
   "source": [
    "### 8. Hubungan antara gender dengan waktu pembelian \n",
    "\n",
    "menggunakan chi squared test untuk menganalisis apakah ada hubungan antara variabel kategori gender dan waktu pembelian.\n",
    "\n",
    "H0: Tidak ada hubungan antara gender dan waktu pembelian.\n",
    "\n",
    "H1: Ada hubungan antara gender dan waktu pembelian."
   ]
  },
  {
   "cell_type": "code",
   "execution_count": 20,
   "id": "a3de130b",
   "metadata": {},
   "outputs": [
    {
     "data": {
      "text/html": [
       "<div>\n",
       "<style scoped>\n",
       "    .dataframe tbody tr th:only-of-type {\n",
       "        vertical-align: middle;\n",
       "    }\n",
       "\n",
       "    .dataframe tbody tr th {\n",
       "        vertical-align: top;\n",
       "    }\n",
       "\n",
       "    .dataframe thead th {\n",
       "        text-align: right;\n",
       "    }\n",
       "</style>\n",
       "<table border=\"1\" class=\"dataframe\">\n",
       "  <thead>\n",
       "    <tr style=\"text-align: right;\">\n",
       "      <th>Time_of_Purchase</th>\n",
       "      <th>Afternoon</th>\n",
       "      <th>Evening</th>\n",
       "      <th>Morning</th>\n",
       "    </tr>\n",
       "    <tr>\n",
       "      <th>Gender</th>\n",
       "      <th></th>\n",
       "      <th></th>\n",
       "      <th></th>\n",
       "    </tr>\n",
       "  </thead>\n",
       "  <tbody>\n",
       "    <tr>\n",
       "      <th>Female</th>\n",
       "      <td>46</td>\n",
       "      <td>67</td>\n",
       "      <td>69</td>\n",
       "    </tr>\n",
       "    <tr>\n",
       "      <th>Male</th>\n",
       "      <td>53</td>\n",
       "      <td>49</td>\n",
       "      <td>47</td>\n",
       "    </tr>\n",
       "    <tr>\n",
       "      <th>Non-binary</th>\n",
       "      <td>46</td>\n",
       "      <td>63</td>\n",
       "      <td>60</td>\n",
       "    </tr>\n",
       "  </tbody>\n",
       "</table>\n",
       "</div>"
      ],
      "text/plain": [
       "Time_of_Purchase  Afternoon  Evening  Morning\n",
       "Gender                                       \n",
       "Female                   46       67       69\n",
       "Male                     53       49       47\n",
       "Non-binary               46       63       60"
      ]
     },
     "execution_count": 20,
     "metadata": {},
     "output_type": "execute_result"
    }
   ],
   "source": [
    "contingency_table = pd.crosstab(main['Gender'],main['Time_of_Purchase'])\n",
    "contingency_table"
   ]
  },
  {
   "cell_type": "code",
   "execution_count": 21,
   "id": "19ca13c1",
   "metadata": {},
   "outputs": [
    {
     "name": "stdout",
     "output_type": "stream",
     "text": [
      "P-value: 0.3157741978597857\n"
     ]
    }
   ],
   "source": [
    "res = stats.chi2_contingency(contingency_table)\n",
    "print(\"P-value:\",res.pvalue)"
   ]
  },
  {
   "cell_type": "markdown",
   "id": "56df9dc4",
   "metadata": {},
   "source": [
    "Kesimpulan : \n",
    "\n",
    "Critical value = 0.05\n",
    "\n",
    "P-value didapatkan 0.31 artinya lebih besar dari critical value maka H0 gagal di tolak/ diterima. Tidak ada hubungan yang signifikan secara statistik antara gender dan waktu pembelian berdasarkan data. Ini berarti bahwa waktu pembelian tampaknya tidak dipengaruhi oleh gender dalam kumpulan data ini."
   ]
  },
  {
   "cell_type": "markdown",
   "id": "7405359b",
   "metadata": {},
   "source": [
    "# vi. Conclusion\n",
    "Berdasarkan analisis data transaksi pelanggan dari toko Cherry on Top, berikut adalah kesimpulan:\n",
    "\n",
    "\n",
    "1. Jumlah transaksi paling banyak terjadi pada sore hari, sementara yang paling sedikit terjadi pada siang hari. Hal ini menunjukkan peluang untuk mengatur strategi promosi seperti Happy Hour di waktu sepi untuk meratakan kunjungan.\n",
    "2. Pelanggan wanita memiliki total pengeluaran tertinggi, sedangkan pria yang terendah. Ini menunjukkan bahwa promosi yang diarahkan untuk pelanggan wanita lebih berpotensi dalam meningkatkan penjualan.\n",
    "3. Metode pembayaran yang paling sering digunakan adalah tunai sementara card adalah yang paling jarang.\n",
    "4. Total penjualan tertinggi tercatat pada Juni 2024, dan terendah pada Oktober 2024. Penjualan meningkat dari April hingga Juni, namun mengalami penurunan mulai Agustus hingga Oktober. Hal ini dapat menjadi acuan dalam mengatur momentum promosi.\n",
    "5. Non-member cenderung lebih aktif belanja di beberapa bulan April, Juni, Agustus, dan September, yang menunjukkan potensi untuk mendorong konversi ke program membership.\n",
    "6. Kelompok usia 36–45 tahun mencatat total pembelian tertinggi, sedangkan kelompok 66 tahun ke atas yang terendah. Ini menunjukkan bahwa segmen usia produktif adalah target utama yang paling potensial.\n",
    "7. Distribusi yang relatif simetris dan penyebaran yang cukup besar menunjukkan bahwa program promosi member perlu mempertimbangkan keberagaman usia.\n",
    "8. Berdasarkan uji chi-square, tidak ditemukan hubungan signifikan antara gender dan waktu pembelian (p-value 0.31 > 0.05). Artinya, waktu belanja tidak dipengaruhi oleh gender secara statistik.\n",
    "\n",
    "\n",
    " "
   ]
  },
  {
   "cell_type": "markdown",
   "id": "49e3a6e1",
   "metadata": {},
   "source": [
    "# Recommendation\n",
    "**Marketing**\n",
    "1. Menerapkan promo happy hour di siang hari untuk meratakan kunjungan\n",
    "2. Fokus promosi pada kategori wanita dan usia 36–45 tahun sebagai pelanggan yang paling berkontribusi terhadap penjualan\n",
    "3. Memberikan promo menarik untuk pelanggan yang baru mendaftar menjadi member.\n",
    "4. Tawarkan promo tambahan untuk member agar tetap aktif berbelanja.\n",
    "\n",
    "**Operasional**\n",
    "1. Menyesuaikan jadwal kerja staf berdasarkan pola peak hour untuk meningkatkan efisiensi dan kualitas layanan.\n"
   ]
  }
 ],
 "metadata": {
  "kernelspec": {
   "display_name": "base",
   "language": "python",
   "name": "python3"
  },
  "language_info": {
   "codemirror_mode": {
    "name": "ipython",
    "version": 3
   },
   "file_extension": ".py",
   "mimetype": "text/x-python",
   "name": "python",
   "nbconvert_exporter": "python",
   "pygments_lexer": "ipython3",
   "version": "3.9.21"
  }
 },
 "nbformat": 4,
 "nbformat_minor": 5
}
